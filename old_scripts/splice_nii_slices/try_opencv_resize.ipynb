{
 "cells": [
  {
   "cell_type": "code",
   "execution_count": null,
   "metadata": {
    "collapsed": true
   },
   "outputs": [],
   "source": [
    "import cv2\n",
    "import matplotlib.pyplot as plt\n",
    "import numpy as np\n",
    "from numpy import dtype, ndarray\n",
    "from zimg import ZImg"
   ]
  },
  {
   "cell_type": "code",
   "execution_count": null,
   "outputs": [],
   "source": [
    "file_path = (\n",
    "    r\"D:\\WorkData\\nii\\20230426\\002_slice_0020_fused_tp_0_ch_0_cropped_v2n4corr.nii.gz\"\n",
    ")\n",
    "index = 10"
   ],
   "metadata": {
    "collapsed": false
   }
  },
  {
   "cell_type": "code",
   "execution_count": null,
   "outputs": [],
   "source": [
    "zimg = ZImg(file_path)\n",
    "zimg_data = zimg.data[0][0]\n",
    "single_image = zimg_data[index].transpose()\n",
    "{\n",
    "    \"shape\": single_image.shape,\n",
    "    \"dtype\": single_image.dtype,\n",
    "    \"min\": single_image.min(),\n",
    "    \"max\": single_image.max(),\n",
    "}"
   ],
   "metadata": {
    "collapsed": false
   }
  },
  {
   "cell_type": "code",
   "execution_count": null,
   "outputs": [],
   "source": [
    "fig, axs = plt.subplots(1, 2)\n",
    "axs[0].hist(single_image.ravel(), bins=100)\n",
    "axs[1].imshow(single_image, cmap=\"gray\")"
   ],
   "metadata": {
    "collapsed": false
   }
  },
  {
   "cell_type": "code",
   "execution_count": null,
   "outputs": [],
   "source": [
    "def normalize_image(image: ndarray, target_dtype: dtype) -> ndarray:\n",
    "    assert target_dtype.kind == \"u\"\n",
    "    image_min, image_max = image.min(), image.max()\n",
    "    target_max = np.iinfo(target_dtype).max\n",
    "    return ((image - image_min) / (image_max - image_min) * target_max).astype(\n",
    "        target_dtype\n",
    "    )\n",
    "\n",
    "\n",
    "normalized_image = normalize_image(single_image, dtype(np.uint16))\n",
    "\n",
    "_, axs = plt.subplots(1, 2)\n",
    "axs[0].hist(normalized_image.ravel(), bins=100)\n",
    "axs[1].imshow(normalized_image, cmap=\"gray\")"
   ],
   "metadata": {
    "collapsed": false
   }
  },
  {
   "cell_type": "code",
   "execution_count": null,
   "outputs": [],
   "source": [
    "resized_image = cv2.resize(normalized_image, (250, 350), interpolation=cv2.INTER_AREA)\n",
    "_, axs = plt.subplots(1, 2)\n",
    "axs[0].hist(resized_image.ravel(), bins=100)\n",
    "axs[1].imshow(resized_image, cmap=\"gray\")"
   ],
   "metadata": {
    "collapsed": false
   }
  }
 ],
 "metadata": {
  "kernelspec": {
   "display_name": "Python 3",
   "language": "python",
   "name": "python3"
  },
  "language_info": {
   "codemirror_mode": {
    "name": "ipython",
    "version": 2
   },
   "file_extension": ".py",
   "mimetype": "text/x-python",
   "name": "python",
   "nbconvert_exporter": "python",
   "pygments_lexer": "ipython2",
   "version": "2.7.6"
  }
 },
 "nbformat": 4,
 "nbformat_minor": 0
}
