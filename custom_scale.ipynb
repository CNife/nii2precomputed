{
 "cells": [
  {
   "cell_type": "code",
   "execution_count": 1,
   "metadata": {
    "collapsed": true,
    "ExecuteTime": {
     "end_time": "2023-06-27T09:29:19.681387500Z",
     "start_time": "2023-06-27T09:29:17.990959Z"
    }
   },
   "outputs": [],
   "source": [
    "from pathlib import Path\n",
    "\n",
    "import numpy as np\n",
    "from neuroglancer_scripts.dyadic_pyramid import fill_scales_for_dyadic_pyramid\n",
    "from numpy import ndarray\n",
    "from skimage.transform import resize\n",
    "from zimg import ZImg, ZImgInfo\n",
    "\n",
    "from nii_2_precomputed import Resolution, build_base_json_dict\n",
    "from util import pretty_print_object"
   ]
  },
  {
   "cell_type": "code",
   "execution_count": 2,
   "outputs": [],
   "source": [
    "image_path = Path(r\"D:\\EEG Data\\nii\\20230530\\full16_100um_2009b_sym.nii.gz\")\n",
    "image_info: ZImgInfo = ZImg.readImgInfos(str(image_path))[0]"
   ],
   "metadata": {
    "collapsed": false,
    "ExecuteTime": {
     "end_time": "2023-06-27T09:29:19.696217600Z",
     "start_time": "2023-06-27T09:29:19.683387Z"
    }
   }
  },
  {
   "cell_type": "code",
   "execution_count": 3,
   "outputs": [
    {
     "data": {
      "text/plain": "╭─────────────────────────────────────────────────────────────────────────────────────────────────────────────────╮\n│ \u001B[1m[\u001B[0m\u001B[1m(\u001B[0m\u001B[1;36m0\u001B[0m, \u001B[1;36m20\u001B[0m\u001B[1m)\u001B[0m, \u001B[1m(\u001B[0m\u001B[1;36m20\u001B[0m, \u001B[1;36m40\u001B[0m\u001B[1m)\u001B[0m, \u001B[1m(\u001B[0m\u001B[1;36m40\u001B[0m, \u001B[1;36m60\u001B[0m\u001B[1m)\u001B[0m, \u001B[1m(\u001B[0m\u001B[1;36m60\u001B[0m, \u001B[1;36m80\u001B[0m\u001B[1m)\u001B[0m, \u001B[1m(\u001B[0m\u001B[1;36m80\u001B[0m, \u001B[1;36m100\u001B[0m\u001B[1m)\u001B[0m, \u001B[1m(\u001B[0m\u001B[1;36m100\u001B[0m, \u001B[1;36m120\u001B[0m\u001B[1m)\u001B[0m, \u001B[1m(\u001B[0m\u001B[1;36m120\u001B[0m, \u001B[1;36m140\u001B[0m\u001B[1m)\u001B[0m, \u001B[1m(\u001B[0m\u001B[1;36m140\u001B[0m, \u001B[1;36m142\u001B[0m\u001B[1m)\u001B[0m\u001B[1m]\u001B[0m                          │\n╰─────────────────────────────────────────────────────────────────────────────────────────────────────────────────╯\n",
      "text/html": "<pre style=\"white-space:pre;overflow-x:auto;line-height:normal;font-family:Menlo,'DejaVu Sans Mono',consolas,'Courier New',monospace\">╭─────────────────────────────────────────────────────────────────────────────────────────────────────────────────╮\n│ <span style=\"font-weight: bold\">[(</span><span style=\"color: #008080; text-decoration-color: #008080; font-weight: bold\">0</span>, <span style=\"color: #008080; text-decoration-color: #008080; font-weight: bold\">20</span><span style=\"font-weight: bold\">)</span>, <span style=\"font-weight: bold\">(</span><span style=\"color: #008080; text-decoration-color: #008080; font-weight: bold\">20</span>, <span style=\"color: #008080; text-decoration-color: #008080; font-weight: bold\">40</span><span style=\"font-weight: bold\">)</span>, <span style=\"font-weight: bold\">(</span><span style=\"color: #008080; text-decoration-color: #008080; font-weight: bold\">40</span>, <span style=\"color: #008080; text-decoration-color: #008080; font-weight: bold\">60</span><span style=\"font-weight: bold\">)</span>, <span style=\"font-weight: bold\">(</span><span style=\"color: #008080; text-decoration-color: #008080; font-weight: bold\">60</span>, <span style=\"color: #008080; text-decoration-color: #008080; font-weight: bold\">80</span><span style=\"font-weight: bold\">)</span>, <span style=\"font-weight: bold\">(</span><span style=\"color: #008080; text-decoration-color: #008080; font-weight: bold\">80</span>, <span style=\"color: #008080; text-decoration-color: #008080; font-weight: bold\">100</span><span style=\"font-weight: bold\">)</span>, <span style=\"font-weight: bold\">(</span><span style=\"color: #008080; text-decoration-color: #008080; font-weight: bold\">100</span>, <span style=\"color: #008080; text-decoration-color: #008080; font-weight: bold\">120</span><span style=\"font-weight: bold\">)</span>, <span style=\"font-weight: bold\">(</span><span style=\"color: #008080; text-decoration-color: #008080; font-weight: bold\">120</span>, <span style=\"color: #008080; text-decoration-color: #008080; font-weight: bold\">140</span><span style=\"font-weight: bold\">)</span>, <span style=\"font-weight: bold\">(</span><span style=\"color: #008080; text-decoration-color: #008080; font-weight: bold\">140</span>, <span style=\"color: #008080; text-decoration-color: #008080; font-weight: bold\">142</span><span style=\"font-weight: bold\">)]</span>                          │\n╰─────────────────────────────────────────────────────────────────────────────────────────────────────────────────╯\n</pre>\n"
     },
     "metadata": {},
     "output_type": "display_data"
    },
    {
     "data": {
      "text/plain": "╭─────────────────────────────────────────────────────────────────────────────────────────────────────────────────╮\n│ \u001B[1m[\u001B[0m\u001B[1m(\u001B[0m\u001B[1;36m0\u001B[0m, \u001B[1;36m266\u001B[0m\u001B[1m)\u001B[0m, \u001B[1m(\u001B[0m\u001B[1;36m266\u001B[0m, \u001B[1;36m533\u001B[0m\u001B[1m)\u001B[0m, \u001B[1m(\u001B[0m\u001B[1;36m533\u001B[0m, \u001B[1;36m799\u001B[0m\u001B[1m)\u001B[0m, \u001B[1m(\u001B[0m\u001B[1;36m799\u001B[0m, \u001B[1;36m1065\u001B[0m\u001B[1m)\u001B[0m, \u001B[1m(\u001B[0m\u001B[1;36m1065\u001B[0m, \u001B[1;36m1331\u001B[0m\u001B[1m)\u001B[0m, \u001B[1m(\u001B[0m\u001B[1;36m1331\u001B[0m, \u001B[1;36m1598\u001B[0m\u001B[1m)\u001B[0m, \u001B[1m(\u001B[0m\u001B[1;36m1598\u001B[0m, \u001B[1;36m1864\u001B[0m\u001B[1m)\u001B[0m, \u001B[1m(\u001B[0m\u001B[1;36m1864\u001B[0m, \u001B[1;36m1890\u001B[0m\u001B[1m)\u001B[0m\u001B[1m]\u001B[0m         │\n╰─────────────────────────────────────────────────────────────────────────────────────────────────────────────────╯\n",
      "text/html": "<pre style=\"white-space:pre;overflow-x:auto;line-height:normal;font-family:Menlo,'DejaVu Sans Mono',consolas,'Courier New',monospace\">╭─────────────────────────────────────────────────────────────────────────────────────────────────────────────────╮\n│ <span style=\"font-weight: bold\">[(</span><span style=\"color: #008080; text-decoration-color: #008080; font-weight: bold\">0</span>, <span style=\"color: #008080; text-decoration-color: #008080; font-weight: bold\">266</span><span style=\"font-weight: bold\">)</span>, <span style=\"font-weight: bold\">(</span><span style=\"color: #008080; text-decoration-color: #008080; font-weight: bold\">266</span>, <span style=\"color: #008080; text-decoration-color: #008080; font-weight: bold\">533</span><span style=\"font-weight: bold\">)</span>, <span style=\"font-weight: bold\">(</span><span style=\"color: #008080; text-decoration-color: #008080; font-weight: bold\">533</span>, <span style=\"color: #008080; text-decoration-color: #008080; font-weight: bold\">799</span><span style=\"font-weight: bold\">)</span>, <span style=\"font-weight: bold\">(</span><span style=\"color: #008080; text-decoration-color: #008080; font-weight: bold\">799</span>, <span style=\"color: #008080; text-decoration-color: #008080; font-weight: bold\">1065</span><span style=\"font-weight: bold\">)</span>, <span style=\"font-weight: bold\">(</span><span style=\"color: #008080; text-decoration-color: #008080; font-weight: bold\">1065</span>, <span style=\"color: #008080; text-decoration-color: #008080; font-weight: bold\">1331</span><span style=\"font-weight: bold\">)</span>, <span style=\"font-weight: bold\">(</span><span style=\"color: #008080; text-decoration-color: #008080; font-weight: bold\">1331</span>, <span style=\"color: #008080; text-decoration-color: #008080; font-weight: bold\">1598</span><span style=\"font-weight: bold\">)</span>, <span style=\"font-weight: bold\">(</span><span style=\"color: #008080; text-decoration-color: #008080; font-weight: bold\">1598</span>, <span style=\"color: #008080; text-decoration-color: #008080; font-weight: bold\">1864</span><span style=\"font-weight: bold\">)</span>, <span style=\"font-weight: bold\">(</span><span style=\"color: #008080; text-decoration-color: #008080; font-weight: bold\">1864</span>, <span style=\"color: #008080; text-decoration-color: #008080; font-weight: bold\">1890</span><span style=\"font-weight: bold\">)]</span>         │\n╰─────────────────────────────────────────────────────────────────────────────────────────────────────────────────╯\n</pre>\n"
     },
     "metadata": {},
     "output_type": "display_data"
    }
   ],
   "source": [
    "target_y = 175\n",
    "ratio = image_info.height / target_y\n",
    "scaled_image_size = Resolution(\n",
    "    x=round(image_info.width / ratio), y=target_y, z=round(image_info.depth / ratio)\n",
    ")\n",
    "scaled_step_size = 20\n",
    "scaled_ranges = [\n",
    "    (scaled_start, min(scaled_start + scaled_step_size, scaled_image_size.z))\n",
    "    for scaled_start in range(0, scaled_image_size.z, scaled_step_size)\n",
    "]\n",
    "image_starts = [round(scaled_start * ratio) for scaled_start, _ in scaled_ranges]\n",
    "image_ends = image_starts[1:] + [image_info.depth]\n",
    "\n",
    "pretty_print_object(scaled_ranges)\n",
    "pretty_print_object(list(zip(image_starts, image_ends)))"
   ],
   "metadata": {
    "collapsed": false,
    "ExecuteTime": {
     "end_time": "2023-06-27T09:29:19.720216900Z",
     "start_time": "2023-06-27T09:29:19.699216300Z"
    }
   }
  },
  {
   "cell_type": "code",
   "execution_count": 4,
   "outputs": [
    {
     "data": {
      "text/plain": "╭─────────────────────────────────────────────────────────────────────────────────────────────────────────────────╮\n│ \u001B[1m{\u001B[0m                                                                                                               │\n│     \u001B[32m'type'\u001B[0m: \u001B[32m'image'\u001B[0m,                                                                                            │\n│     \u001B[32m'data_type'\u001B[0m: \u001B[32m'uint16'\u001B[0m,                                                                                      │\n│     \u001B[32m'num_channels'\u001B[0m: \u001B[1;36m1\u001B[0m,                                                                                          │\n│     \u001B[32m'scales'\u001B[0m: \u001B[1m[\u001B[0m                                                                                                 │\n│         \u001B[1m{\u001B[0m                                                                                                       │\n│             \u001B[32m'chunk_sizes'\u001B[0m: \u001B[1m[\u001B[0m\u001B[1m[\u001B[0m\u001B[1;36m64\u001B[0m, \u001B[1;36m64\u001B[0m, \u001B[1;36m64\u001B[0m\u001B[1m]\u001B[0m\u001B[1m]\u001B[0m,                                                                      │\n│             \u001B[32m'encoding'\u001B[0m: \u001B[32m'raw'\u001B[0m,                                                                                  │\n│             \u001B[32m'sharding'\u001B[0m: \u001B[1m{\u001B[0m                                                                                       │\n│                 \u001B[32m'@type'\u001B[0m: \u001B[32m'neuroglancer_uint64_sharded_v1'\u001B[0m,                                                      │\n│                 \u001B[32m'hash'\u001B[0m: \u001B[32m'identity'\u001B[0m,                                                                             │\n│                 \u001B[32m'minishard_bits'\u001B[0m: \u001B[1;36m6\u001B[0m,                                                                            │\n│                 \u001B[32m'minishard_index_encoding'\u001B[0m: \u001B[32m'gzip'\u001B[0m,                                                             │\n│                 \u001B[32m'data_encoding'\u001B[0m: \u001B[32m'gzip'\u001B[0m,                                                                        │\n│                 \u001B[32m'preshift_bits'\u001B[0m: \u001B[1;36m9\u001B[0m,                                                                             │\n│                 \u001B[32m'shard_bits'\u001B[0m: \u001B[1;36m15\u001B[0m                                                                                │\n│             \u001B[1m}\u001B[0m,                                                                                                  │\n│             \u001B[32m'resolution'\u001B[0m: \u001B[1m[\u001B[0m\u001B[1;36m1250000.0\u001B[0m, \u001B[1;36m1250000.0\u001B[0m, \u001B[1;36m1250000.0\u001B[0m\u001B[1m]\u001B[0m,                                                    │\n│             \u001B[32m'size'\u001B[0m: \u001B[1m[\u001B[0m\u001B[1;36m148\u001B[0m, \u001B[1;36m175\u001B[0m, \u001B[1;36m142\u001B[0m\u001B[1m]\u001B[0m,                                                                            │\n│             \u001B[32m'voxel_offset'\u001B[0m: \u001B[1m[\u001B[0m\u001B[1;36m0\u001B[0m, \u001B[1;36m0\u001B[0m, \u001B[1;36m0\u001B[0m\u001B[1m]\u001B[0m,                                                                          │\n│             \u001B[32m'key'\u001B[0m: \u001B[32m'1mm'\u001B[0m                                                                                        │\n│         \u001B[1m}\u001B[0m,                                                                                                      │\n│         \u001B[1m{\u001B[0m                                                                                                       │\n│             \u001B[32m'chunk_sizes'\u001B[0m: \u001B[1m[\u001B[0m\u001B[1m[\u001B[0m\u001B[1;36m64\u001B[0m, \u001B[1;36m64\u001B[0m, \u001B[1;36m64\u001B[0m\u001B[1m]\u001B[0m\u001B[1m]\u001B[0m,                                                                      │\n│             \u001B[32m'encoding'\u001B[0m: \u001B[32m'raw'\u001B[0m,                                                                                  │\n│             \u001B[32m'sharding'\u001B[0m: \u001B[1m{\u001B[0m                                                                                       │\n│                 \u001B[32m'@type'\u001B[0m: \u001B[32m'neuroglancer_uint64_sharded_v1'\u001B[0m,                                                      │\n│                 \u001B[32m'hash'\u001B[0m: \u001B[32m'identity'\u001B[0m,                                                                             │\n│                 \u001B[32m'minishard_bits'\u001B[0m: \u001B[1;36m6\u001B[0m,                                                                            │\n│                 \u001B[32m'minishard_index_encoding'\u001B[0m: \u001B[32m'gzip'\u001B[0m,                                                             │\n│                 \u001B[32m'data_encoding'\u001B[0m: \u001B[32m'gzip'\u001B[0m,                                                                        │\n│                 \u001B[32m'preshift_bits'\u001B[0m: \u001B[1;36m9\u001B[0m,                                                                             │\n│                 \u001B[32m'shard_bits'\u001B[0m: \u001B[1;36m15\u001B[0m                                                                                │\n│             \u001B[1m}\u001B[0m,                                                                                                  │\n│             \u001B[32m'resolution'\u001B[0m: \u001B[1m[\u001B[0m\u001B[1;36m2500000.0\u001B[0m, \u001B[1;36m2500000.0\u001B[0m, \u001B[1;36m2500000.0\u001B[0m\u001B[1m]\u001B[0m,                                                    │\n│             \u001B[32m'size'\u001B[0m: \u001B[1m[\u001B[0m\u001B[1;36m74\u001B[0m, \u001B[1;36m88\u001B[0m, \u001B[1;36m71\u001B[0m\u001B[1m]\u001B[0m,                                                                               │\n│             \u001B[32m'voxel_offset'\u001B[0m: \u001B[1m[\u001B[0m\u001B[1;36m0\u001B[0m, \u001B[1;36m0\u001B[0m, \u001B[1;36m0\u001B[0m\u001B[1m]\u001B[0m,                                                                          │\n│             \u001B[32m'key'\u001B[0m: \u001B[32m'2mm'\u001B[0m                                                                                        │\n│         \u001B[1m}\u001B[0m                                                                                                       │\n│     \u001B[1m]\u001B[0m                                                                                                           │\n│ \u001B[1m}\u001B[0m                                                                                                               │\n╰─────────────────────────────────────────────────────────────────────────────────────────────────────────────────╯\n",
      "text/html": "<pre style=\"white-space:pre;overflow-x:auto;line-height:normal;font-family:Menlo,'DejaVu Sans Mono',consolas,'Courier New',monospace\">╭─────────────────────────────────────────────────────────────────────────────────────────────────────────────────╮\n│ <span style=\"font-weight: bold\">{</span>                                                                                                               │\n│     <span style=\"color: #008000; text-decoration-color: #008000\">'type'</span>: <span style=\"color: #008000; text-decoration-color: #008000\">'image'</span>,                                                                                            │\n│     <span style=\"color: #008000; text-decoration-color: #008000\">'data_type'</span>: <span style=\"color: #008000; text-decoration-color: #008000\">'uint16'</span>,                                                                                      │\n│     <span style=\"color: #008000; text-decoration-color: #008000\">'num_channels'</span>: <span style=\"color: #008080; text-decoration-color: #008080; font-weight: bold\">1</span>,                                                                                          │\n│     <span style=\"color: #008000; text-decoration-color: #008000\">'scales'</span>: <span style=\"font-weight: bold\">[</span>                                                                                                 │\n│         <span style=\"font-weight: bold\">{</span>                                                                                                       │\n│             <span style=\"color: #008000; text-decoration-color: #008000\">'chunk_sizes'</span>: <span style=\"font-weight: bold\">[[</span><span style=\"color: #008080; text-decoration-color: #008080; font-weight: bold\">64</span>, <span style=\"color: #008080; text-decoration-color: #008080; font-weight: bold\">64</span>, <span style=\"color: #008080; text-decoration-color: #008080; font-weight: bold\">64</span><span style=\"font-weight: bold\">]]</span>,                                                                      │\n│             <span style=\"color: #008000; text-decoration-color: #008000\">'encoding'</span>: <span style=\"color: #008000; text-decoration-color: #008000\">'raw'</span>,                                                                                  │\n│             <span style=\"color: #008000; text-decoration-color: #008000\">'sharding'</span>: <span style=\"font-weight: bold\">{</span>                                                                                       │\n│                 <span style=\"color: #008000; text-decoration-color: #008000\">'@type'</span>: <span style=\"color: #008000; text-decoration-color: #008000\">'neuroglancer_uint64_sharded_v1'</span>,                                                      │\n│                 <span style=\"color: #008000; text-decoration-color: #008000\">'hash'</span>: <span style=\"color: #008000; text-decoration-color: #008000\">'identity'</span>,                                                                             │\n│                 <span style=\"color: #008000; text-decoration-color: #008000\">'minishard_bits'</span>: <span style=\"color: #008080; text-decoration-color: #008080; font-weight: bold\">6</span>,                                                                            │\n│                 <span style=\"color: #008000; text-decoration-color: #008000\">'minishard_index_encoding'</span>: <span style=\"color: #008000; text-decoration-color: #008000\">'gzip'</span>,                                                             │\n│                 <span style=\"color: #008000; text-decoration-color: #008000\">'data_encoding'</span>: <span style=\"color: #008000; text-decoration-color: #008000\">'gzip'</span>,                                                                        │\n│                 <span style=\"color: #008000; text-decoration-color: #008000\">'preshift_bits'</span>: <span style=\"color: #008080; text-decoration-color: #008080; font-weight: bold\">9</span>,                                                                             │\n│                 <span style=\"color: #008000; text-decoration-color: #008000\">'shard_bits'</span>: <span style=\"color: #008080; text-decoration-color: #008080; font-weight: bold\">15</span>                                                                                │\n│             <span style=\"font-weight: bold\">}</span>,                                                                                                  │\n│             <span style=\"color: #008000; text-decoration-color: #008000\">'resolution'</span>: <span style=\"font-weight: bold\">[</span><span style=\"color: #008080; text-decoration-color: #008080; font-weight: bold\">1250000.0</span>, <span style=\"color: #008080; text-decoration-color: #008080; font-weight: bold\">1250000.0</span>, <span style=\"color: #008080; text-decoration-color: #008080; font-weight: bold\">1250000.0</span><span style=\"font-weight: bold\">]</span>,                                                    │\n│             <span style=\"color: #008000; text-decoration-color: #008000\">'size'</span>: <span style=\"font-weight: bold\">[</span><span style=\"color: #008080; text-decoration-color: #008080; font-weight: bold\">148</span>, <span style=\"color: #008080; text-decoration-color: #008080; font-weight: bold\">175</span>, <span style=\"color: #008080; text-decoration-color: #008080; font-weight: bold\">142</span><span style=\"font-weight: bold\">]</span>,                                                                            │\n│             <span style=\"color: #008000; text-decoration-color: #008000\">'voxel_offset'</span>: <span style=\"font-weight: bold\">[</span><span style=\"color: #008080; text-decoration-color: #008080; font-weight: bold\">0</span>, <span style=\"color: #008080; text-decoration-color: #008080; font-weight: bold\">0</span>, <span style=\"color: #008080; text-decoration-color: #008080; font-weight: bold\">0</span><span style=\"font-weight: bold\">]</span>,                                                                          │\n│             <span style=\"color: #008000; text-decoration-color: #008000\">'key'</span>: <span style=\"color: #008000; text-decoration-color: #008000\">'1mm'</span>                                                                                        │\n│         <span style=\"font-weight: bold\">}</span>,                                                                                                      │\n│         <span style=\"font-weight: bold\">{</span>                                                                                                       │\n│             <span style=\"color: #008000; text-decoration-color: #008000\">'chunk_sizes'</span>: <span style=\"font-weight: bold\">[[</span><span style=\"color: #008080; text-decoration-color: #008080; font-weight: bold\">64</span>, <span style=\"color: #008080; text-decoration-color: #008080; font-weight: bold\">64</span>, <span style=\"color: #008080; text-decoration-color: #008080; font-weight: bold\">64</span><span style=\"font-weight: bold\">]]</span>,                                                                      │\n│             <span style=\"color: #008000; text-decoration-color: #008000\">'encoding'</span>: <span style=\"color: #008000; text-decoration-color: #008000\">'raw'</span>,                                                                                  │\n│             <span style=\"color: #008000; text-decoration-color: #008000\">'sharding'</span>: <span style=\"font-weight: bold\">{</span>                                                                                       │\n│                 <span style=\"color: #008000; text-decoration-color: #008000\">'@type'</span>: <span style=\"color: #008000; text-decoration-color: #008000\">'neuroglancer_uint64_sharded_v1'</span>,                                                      │\n│                 <span style=\"color: #008000; text-decoration-color: #008000\">'hash'</span>: <span style=\"color: #008000; text-decoration-color: #008000\">'identity'</span>,                                                                             │\n│                 <span style=\"color: #008000; text-decoration-color: #008000\">'minishard_bits'</span>: <span style=\"color: #008080; text-decoration-color: #008080; font-weight: bold\">6</span>,                                                                            │\n│                 <span style=\"color: #008000; text-decoration-color: #008000\">'minishard_index_encoding'</span>: <span style=\"color: #008000; text-decoration-color: #008000\">'gzip'</span>,                                                             │\n│                 <span style=\"color: #008000; text-decoration-color: #008000\">'data_encoding'</span>: <span style=\"color: #008000; text-decoration-color: #008000\">'gzip'</span>,                                                                        │\n│                 <span style=\"color: #008000; text-decoration-color: #008000\">'preshift_bits'</span>: <span style=\"color: #008080; text-decoration-color: #008080; font-weight: bold\">9</span>,                                                                             │\n│                 <span style=\"color: #008000; text-decoration-color: #008000\">'shard_bits'</span>: <span style=\"color: #008080; text-decoration-color: #008080; font-weight: bold\">15</span>                                                                                │\n│             <span style=\"font-weight: bold\">}</span>,                                                                                                  │\n│             <span style=\"color: #008000; text-decoration-color: #008000\">'resolution'</span>: <span style=\"font-weight: bold\">[</span><span style=\"color: #008080; text-decoration-color: #008080; font-weight: bold\">2500000.0</span>, <span style=\"color: #008080; text-decoration-color: #008080; font-weight: bold\">2500000.0</span>, <span style=\"color: #008080; text-decoration-color: #008080; font-weight: bold\">2500000.0</span><span style=\"font-weight: bold\">]</span>,                                                    │\n│             <span style=\"color: #008000; text-decoration-color: #008000\">'size'</span>: <span style=\"font-weight: bold\">[</span><span style=\"color: #008080; text-decoration-color: #008080; font-weight: bold\">74</span>, <span style=\"color: #008080; text-decoration-color: #008080; font-weight: bold\">88</span>, <span style=\"color: #008080; text-decoration-color: #008080; font-weight: bold\">71</span><span style=\"font-weight: bold\">]</span>,                                                                               │\n│             <span style=\"color: #008000; text-decoration-color: #008000\">'voxel_offset'</span>: <span style=\"font-weight: bold\">[</span><span style=\"color: #008080; text-decoration-color: #008080; font-weight: bold\">0</span>, <span style=\"color: #008080; text-decoration-color: #008080; font-weight: bold\">0</span>, <span style=\"color: #008080; text-decoration-color: #008080; font-weight: bold\">0</span><span style=\"font-weight: bold\">]</span>,                                                                          │\n│             <span style=\"color: #008000; text-decoration-color: #008000\">'key'</span>: <span style=\"color: #008000; text-decoration-color: #008000\">'2mm'</span>                                                                                        │\n│         <span style=\"font-weight: bold\">}</span>                                                                                                       │\n│     <span style=\"font-weight: bold\">]</span>                                                                                                           │\n│ <span style=\"font-weight: bold\">}</span>                                                                                                               │\n╰─────────────────────────────────────────────────────────────────────────────────────────────────────────────────╯\n</pre>\n"
     },
     "metadata": {},
     "output_type": "display_data"
    }
   ],
   "source": [
    "info = {\n",
    "    \"type\": \"image\",\n",
    "    \"data_type\": image_info.dataTypeString(),\n",
    "    \"num_channels\": 1,\n",
    "    \"scales\": [\n",
    "        {\n",
    "            \"chunk_sizes\": [],\n",
    "            \"encoding\": \"raw\",\n",
    "            \"sharding\": {\n",
    "                \"@type\": \"neuroglancer_uint64_sharded_v1\",\n",
    "                \"hash\": \"identity\",\n",
    "                \"minishard_bits\": 6,\n",
    "                \"minishard_index_encoding\": \"gzip\",\n",
    "                \"data_encoding\": \"gzip\",\n",
    "                \"preshift_bits\": 9,\n",
    "                \"shard_bits\": 15,\n",
    "            },\n",
    "            \"resolution\": [1250000.0] * 3,\n",
    "            \"size\": list(scaled_image_size),\n",
    "            \"voxel_offset\": [0, 0, 0],\n",
    "        }\n",
    "    ],\n",
    "}\n",
    "fill_scales_for_dyadic_pyramid(info, target_chunk_size=64)\n",
    "pretty_print_object(info)"
   ],
   "metadata": {
    "collapsed": false,
    "ExecuteTime": {
     "end_time": "2023-06-27T09:29:19.737217600Z",
     "start_time": "2023-06-27T09:29:19.715217200Z"
    }
   }
  },
  {
   "cell_type": "code",
   "execution_count": 5,
   "outputs": [],
   "source": [
    "def save_numpy_array(array: ndarray, directory: Path, name_prefix: str) -> None:\n",
    "    shape_name = \"_\".join(str(dim_length) for dim_length in array.shape)\n",
    "    save_path = directory / f\"{name_prefix}_{shape_name}.npz\"\n",
    "    np.savez_compressed(save_path)\n",
    "\n",
    "\n",
    "def change_resized_chunk_dtype(array: ndarray, target_dtype: np.dtype) -> ndarray:\n",
    "    if target_dtype == np.float64:\n",
    "        return array\n",
    "    if target_dtype == np.float32:\n",
    "        return array.astype(np.float32)\n",
    "    if target_dtype.kind == 'u':\n",
    "        return (array * np.iinfo(target_dtype).max).astype(target_dtype)\n",
    "    raise ValueError('unknown target dtype')"
   ],
   "metadata": {
    "collapsed": false,
    "ExecuteTime": {
     "end_time": "2023-06-27T09:29:19.762217400Z",
     "start_time": "2023-06-27T09:29:19.732216500Z"
    }
   }
  },
  {
   "cell_type": "code",
   "execution_count": 6,
   "outputs": [],
   "source": [
    "image_data_obj = ZImg(str(image_path))\n",
    "image_data = image_data_obj.data[0][0].transpose()\n",
    "\n",
    "resized_data = np.empty(scaled_image_size, dtype=image_data.dtype)\n",
    "for i, image_range in enumerate(zip(image_starts, image_ends)):\n",
    "    image_data_chunk = image_data[:, :, image_range[0]: image_range[1]]\n",
    "    scaled_range = scaled_ranges[i]\n",
    "    resized_chunk = resize(\n",
    "        image_data_chunk,\n",
    "        (scaled_image_size.x, scaled_image_size.y, scaled_range[1] - scaled_range[0]),\n",
    "        anti_aliasing=True,\n",
    "    )\n",
    "    result_chunk = change_resized_chunk_dtype(resized_chunk, image_data.dtype)\n",
    "    resized_data[:, :, scaled_range[0]: scaled_range[1]] = result_chunk\n",
    "\n",
    "save_numpy_array(resized_data, Path(r\"C:\\Workspace\"), \"resized\")"
   ],
   "metadata": {
    "collapsed": false,
    "ExecuteTime": {
     "end_time": "2023-06-27T09:36:34.286421800Z",
     "start_time": "2023-06-27T09:29:19.747217900Z"
    }
   }
  },
  {
   "cell_type": "code",
   "execution_count": 7,
   "outputs": [
    {
     "data": {
      "text/plain": "\u001B[31m╭─\u001B[0m\u001B[31m──────────────────────────────\u001B[0m\u001B[31m \u001B[0m\u001B[1;31mTraceback \u001B[0m\u001B[1;2;31m(most recent call last)\u001B[0m\u001B[31m \u001B[0m\u001B[31m───────────────────────────────\u001B[0m\u001B[31m─╮\u001B[0m\n\u001B[31m│\u001B[0m in \u001B[92m<module>\u001B[0m:\u001B[94m5\u001B[0m                                                                                    \u001B[31m│\u001B[0m\n\u001B[31m│\u001B[0m                                                                                                  \u001B[31m│\u001B[0m\n\u001B[31m│\u001B[0m   \u001B[2m 2 \u001B[0m\u001B[94mimport\u001B[0m \u001B[4;96mjson\u001B[0m                                                                                 \u001B[31m│\u001B[0m\n\u001B[31m│\u001B[0m   \u001B[2m 3 \u001B[0m\u001B[94mimport\u001B[0m \u001B[4;96mtensorstore\u001B[0m \u001B[94mas\u001B[0m \u001B[4;96mts\u001B[0m                                                                    \u001B[31m│\u001B[0m\n\u001B[31m│\u001B[0m   \u001B[2m 4 \u001B[0m                                                                                            \u001B[31m│\u001B[0m\n\u001B[31m│\u001B[0m \u001B[31m❱ \u001B[0m 5 base_json_dict = build_base_json_dict(image_data_obj.info, Resolution(\u001B[94m1250000\u001B[0m, \u001B[94m1250000\u001B[0m,     \u001B[31m│\u001B[0m\n\u001B[31m│\u001B[0m   \u001B[2m 6 \u001B[0m\u001B[2m│   │   │   │   │   │   │   │   │     \u001B[0mimage_data.dtype, \u001B[33m'\u001B[0m\u001B[33mhttp://localhost:8080/\u001B[0m\u001B[33m'\u001B[0m)           \u001B[31m│\u001B[0m\n\u001B[31m│\u001B[0m   \u001B[2m 7 \u001B[0mout_folder = Path(\u001B[33mr\u001B[0m\u001B[33m'\u001B[0m\u001B[33mC:\u001B[0m\u001B[33m\\\u001B[0m\u001B[33mWorkspace\u001B[0m\u001B[33m\\\u001B[0m\u001B[33mfuck\u001B[0m\u001B[33m'\u001B[0m)                                                     \u001B[31m│\u001B[0m\n\u001B[31m│\u001B[0m   \u001B[2m 8 \u001B[0mpretty_print_object(base_json_dict, \u001B[33m\"\u001B[0m\u001B[33mbase.json\u001B[0m\u001B[33m\"\u001B[0m)                                            \u001B[31m│\u001B[0m\n\u001B[31m╰──────────────────────────────────────────────────────────────────────────────────────────────────╯\u001B[0m\n\u001B[1;91mNameError: \u001B[0mname \u001B[32m'build_base_json_dict'\u001B[0m is not defined\n",
      "text/html": "<pre style=\"white-space:pre;overflow-x:auto;line-height:normal;font-family:Menlo,'DejaVu Sans Mono',consolas,'Courier New',monospace\"><span style=\"color: #800000; text-decoration-color: #800000\">╭─────────────────────────────── </span><span style=\"color: #800000; text-decoration-color: #800000; font-weight: bold\">Traceback </span><span style=\"color: #bf7f7f; text-decoration-color: #bf7f7f; font-weight: bold\">(most recent call last)</span><span style=\"color: #800000; text-decoration-color: #800000\"> ────────────────────────────────╮</span>\n<span style=\"color: #800000; text-decoration-color: #800000\">│</span> in <span style=\"color: #00ff00; text-decoration-color: #00ff00\">&lt;module&gt;</span>:<span style=\"color: #0000ff; text-decoration-color: #0000ff\">5</span>                                                                                    <span style=\"color: #800000; text-decoration-color: #800000\">│</span>\n<span style=\"color: #800000; text-decoration-color: #800000\">│</span>                                                                                                  <span style=\"color: #800000; text-decoration-color: #800000\">│</span>\n<span style=\"color: #800000; text-decoration-color: #800000\">│</span>   <span style=\"color: #7f7f7f; text-decoration-color: #7f7f7f\"> 2 </span><span style=\"color: #0000ff; text-decoration-color: #0000ff\">import</span> <span style=\"color: #00ffff; text-decoration-color: #00ffff; text-decoration: underline\">json</span>                                                                                 <span style=\"color: #800000; text-decoration-color: #800000\">│</span>\n<span style=\"color: #800000; text-decoration-color: #800000\">│</span>   <span style=\"color: #7f7f7f; text-decoration-color: #7f7f7f\"> 3 </span><span style=\"color: #0000ff; text-decoration-color: #0000ff\">import</span> <span style=\"color: #00ffff; text-decoration-color: #00ffff; text-decoration: underline\">tensorstore</span> <span style=\"color: #0000ff; text-decoration-color: #0000ff\">as</span> <span style=\"color: #00ffff; text-decoration-color: #00ffff; text-decoration: underline\">ts</span>                                                                    <span style=\"color: #800000; text-decoration-color: #800000\">│</span>\n<span style=\"color: #800000; text-decoration-color: #800000\">│</span>   <span style=\"color: #7f7f7f; text-decoration-color: #7f7f7f\"> 4 </span>                                                                                            <span style=\"color: #800000; text-decoration-color: #800000\">│</span>\n<span style=\"color: #800000; text-decoration-color: #800000\">│</span> <span style=\"color: #800000; text-decoration-color: #800000\">❱ </span> 5 base_json_dict = build_base_json_dict(image_data_obj.info, Resolution(<span style=\"color: #0000ff; text-decoration-color: #0000ff\">1250000</span>, <span style=\"color: #0000ff; text-decoration-color: #0000ff\">1250000</span>,     <span style=\"color: #800000; text-decoration-color: #800000\">│</span>\n<span style=\"color: #800000; text-decoration-color: #800000\">│</span>   <span style=\"color: #7f7f7f; text-decoration-color: #7f7f7f\"> 6 </span><span style=\"color: #7f7f7f; text-decoration-color: #7f7f7f\">│   │   │   │   │   │   │   │   │     </span>image_data.dtype, <span style=\"color: #808000; text-decoration-color: #808000\">'http://localhost:8080/'</span>)           <span style=\"color: #800000; text-decoration-color: #800000\">│</span>\n<span style=\"color: #800000; text-decoration-color: #800000\">│</span>   <span style=\"color: #7f7f7f; text-decoration-color: #7f7f7f\"> 7 </span>out_folder = Path(<span style=\"color: #808000; text-decoration-color: #808000\">r'C:\\Workspace\\fuck'</span>)                                                     <span style=\"color: #800000; text-decoration-color: #800000\">│</span>\n<span style=\"color: #800000; text-decoration-color: #800000\">│</span>   <span style=\"color: #7f7f7f; text-decoration-color: #7f7f7f\"> 8 </span>pretty_print_object(base_json_dict, <span style=\"color: #808000; text-decoration-color: #808000\">\"base.json\"</span>)                                            <span style=\"color: #800000; text-decoration-color: #800000\">│</span>\n<span style=\"color: #800000; text-decoration-color: #800000\">╰──────────────────────────────────────────────────────────────────────────────────────────────────╯</span>\n<span style=\"color: #ff0000; text-decoration-color: #ff0000; font-weight: bold\">NameError: </span>name <span style=\"color: #008000; text-decoration-color: #008000\">'build_base_json_dict'</span> is not defined\n</pre>\n"
     },
     "metadata": {},
     "output_type": "display_data"
    }
   ],
   "source": [
    "from nii_2_precomputed import convert_to_tensorstore_scale_metadata, open_tensorstore\n",
    "import json\n",
    "import tensorstore as ts\n",
    "\n",
    "base_json_dict = build_base_json_dict(image_data_obj.info, Resolution(1250000, 1250000, 1250000), scaled_image_size,\n",
    "                                      image_data.dtype, 'http://localhost:8080/')\n",
    "out_folder = Path(r'C:\\Workspace\\fuck')\n",
    "pretty_print_object(base_json_dict, \"base.json\")\n",
    "with open(out_folder / \"base.json\", \"w\") as base_json_file:\n",
    "    json.dump(base_json_dict, base_json_file, indent=2)\n",
    "\n",
    "multiscale_metadata = {\n",
    "    \"data_type\": info[\"data_type\"],\n",
    "    \"num_channels\": info[\"num_channels\"],\n",
    "    \"type\": info[\"type\"],\n",
    "}\n",
    "# for i, scale in enumerate(info['scales']):\n",
    "#     store = open_tensorstore(f\"channel_{i}\", out_folder, convert_to_tensorstore_scale_metadata(scale), multiscale_metadata)\n",
    "#     store[ts.d[\"channel\"][0]] = resized_data\n",
    "store = open_tensorstore(\"channel_0\", out_folder, convert_to_tensorstore_scale_metadata(info['scales'][0]),\n",
    "                         multiscale_metadata)\n",
    "store[ts.d['channel'][0]] = resized_data"
   ],
   "metadata": {
    "collapsed": false
   }
  }
 ],
 "metadata": {
  "kernelspec": {
   "display_name": "Python 3",
   "language": "python",
   "name": "python3"
  },
  "language_info": {
   "codemirror_mode": {
    "name": "ipython",
    "version": 2
   },
   "file_extension": ".py",
   "mimetype": "text/x-python",
   "name": "python",
   "nbconvert_exporter": "python",
   "pygments_lexer": "ipython2",
   "version": "2.7.6"
  }
 },
 "nbformat": 4,
 "nbformat_minor": 0
}
